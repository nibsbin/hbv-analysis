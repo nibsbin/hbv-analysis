{
 "cells": [
  {
   "cell_type": "markdown",
   "metadata": {},
   "source": [
    "# HBV Vaccination and Infection Rates in Children\n",
    "\n",
    "This notebook explores Hepatitis B virus (HBV) vaccination rates and infection rates in children in the United States."
   ]
  },
  {
   "cell_type": "code",
   "execution_count": null,
   "metadata": {},
   "outputs": [],
   "source": [
    "import pandas as pd\n",
    "import matplotlib.pyplot as plt\n",
    "import seaborn as sns\n",
    "import numpy as np\n",
    "\n",
    "# Set style for better-looking plots\n",
    "sns.set_style('whitegrid')\n",
    "plt.rcParams['figure.figsize'] = (12, 6)"
   ]
  },
  {
   "cell_type": "markdown",
   "metadata": {},
   "source": [
    "## Load and Explore Data"
   ]
  },
  {
   "cell_type": "code",
   "execution_count": null,
   "metadata": {},
   "outputs": [],
   "source": [
    "# Load infection data\n",
    "infections = pd.read_csv('hbv_infections.csv')\n",
    "print(\"Infection data shape:\", infections.shape)\n",
    "print(\"\\nInfection data columns:\", infections.columns.tolist())\n",
    "\n",
    "# Load vaccine data for children\n",
    "vaccine_children = pd.read_csv('hbv_vaccine_children.csv')\n",
    "print(\"\\nVaccine data shape:\", vaccine_children.shape)\n",
    "print(\"Vaccine data columns:\", vaccine_children.columns.tolist())"
   ]
  },
  {
   "cell_type": "markdown",
   "metadata": {},
   "source": [
    "## Filter Data for Children and Hepatitis B"
   ]
  },
  {
   "cell_type": "code",
   "execution_count": null,
   "metadata": {},
   "outputs": [],
   "source": [
    "# Filter infection data for children (0-14 age group)\n",
    "children_infections = infections[infections['Age Group'] == '0-14'].copy()\n",
    "\n",
    "# Clean year column (remove COVID-19 pandemic note)\n",
    "children_infections['Year_Clean'] = children_infections['Year'].str.extract(r'(\\d{4})', expand=False).astype(int)\n",
    "\n",
    "# Sort by year\n",
    "children_infections = children_infections.sort_values('Year_Clean')\n",
    "\n",
    "print(f\"Children infection records: {len(children_infections)}\")\n",
    "print(f\"Year range: {children_infections['Year_Clean'].min()} - {children_infections['Year_Clean'].max()}\")\n",
    "children_infections[['Year', 'Cases', 'Rate per 100000']].head(10)"
   ]
  },
  {
   "cell_type": "code",
   "execution_count": null,
   "metadata": {},
   "outputs": [],
   "source": [
    "# Filter vaccine data for Hepatitis B and United States\n",
    "hepb_vaccine = vaccine_children[\n",
    "    (vaccine_children['Vaccine'] == 'Hep B') & \n",
    "    (vaccine_children['Geography'] == 'United States')\n",
    "].copy()\n",
    "\n",
    "# Filter for ≥3 Doses at 19 Months (standard completion measure)\n",
    "hepb_3doses = hepb_vaccine[\n",
    "    (hepb_vaccine['Dose'] == '≥3 Doses') & \n",
    "    (hepb_vaccine['Dimension'] == '19 Months')\n",
    "].copy()\n",
    "\n",
    "# Extract year from Birth Year/Birth Cohort column\n",
    "# Handle both single years and ranges (e.g., '2019-2020')\n",
    "hepb_3doses['Year'] = hepb_3doses['Birth Year/Birth Cohort'].str.extract(r'(\\d{4})', expand=False).astype(int)\n",
    "\n",
    "# Sort by year\n",
    "hepb_3doses = hepb_3doses.sort_values('Year')\n",
    "\n",
    "print(f\"HepB vaccine records (≥3 doses at 19 months): {len(hepb_3doses)}\")\n",
    "print(f\"Year range: {hepb_3doses['Year'].min()} - {hepb_3doses['Year'].max()}\")\n",
    "hepb_3doses[['Birth Year/Birth Cohort', 'Year', 'Estimate (%)']].head(10)"
   ]
  },
  {
   "cell_type": "markdown",
   "metadata": {},
   "source": [
    "## Visualization 1: HBV Infection Rates in Children Over Time"
   ]
  },
  {
   "cell_type": "code",
   "execution_count": null,
   "metadata": {},
   "outputs": [],
   "source": [
    "fig, (ax1, ax2) = plt.subplots(1, 2, figsize=(16, 6))\n",
    "\n",
    "# Plot 1: Number of cases\n",
    "ax1.plot(children_infections['Year_Clean'], children_infections['Cases'].astype(int), \n",
    "         marker='o', linewidth=2, markersize=6, color='#d62728')\n",
    "ax1.set_xlabel('Year', fontsize=12)\n",
    "ax1.set_ylabel('Number of Cases', fontsize=12)\n",
    "ax1.set_title('Acute Hepatitis B Cases in Children (Age 0-14)', fontsize=14, fontweight='bold')\n",
    "ax1.grid(True, alpha=0.3)\n",
    "\n",
    "# Plot 2: Rate per 100,000\n",
    "ax2.plot(children_infections['Year_Clean'], children_infections['Rate per 100000'].astype(float), \n",
    "         marker='o', linewidth=2, markersize=6, color='#d62728')\n",
    "ax2.set_xlabel('Year', fontsize=12)\n",
    "ax2.set_ylabel('Rate per 100,000 Population', fontsize=12)\n",
    "ax2.set_title('Acute Hepatitis B Rate in Children (Age 0-14)', fontsize=14, fontweight='bold')\n",
    "ax2.grid(True, alpha=0.3)\n",
    "\n",
    "plt.tight_layout()\n",
    "plt.show()\n",
    "\n",
    "print(f\"\\nKey Statistics:\")\n",
    "print(f\"Peak cases: {children_infections['Cases'].astype(int).max()} in {children_infections.loc[children_infections['Cases'].astype(int).idxmax(), 'Year']}\")\n",
    "print(f\"Recent cases (2023): {children_infections[children_infections['Year_Clean'] == 2023]['Cases'].values[0]}\")\n",
    "print(f\"Reduction from peak: {100 * (1 - children_infections[children_infections['Year_Clean'] == 2023]['Cases'].astype(int).values[0] / children_infections['Cases'].astype(int).max()):.1f}%\")"
   ]
  },
  {
   "cell_type": "markdown",
   "metadata": {},
   "source": [
    "## Visualization 2: HBV Vaccination Rates in Children Over Time"
   ]
  },
  {
   "cell_type": "code",
   "execution_count": null,
   "metadata": {},
   "outputs": [],
   "source": [
    "plt.figure(figsize=(14, 6))\n",
    "\n",
    "plt.plot(hepb_3doses['Year'], hepb_3doses['Estimate (%)'].astype(float), \n",
    "         marker='o', linewidth=2.5, markersize=8, color='#2ca02c')\n",
    "\n",
    "plt.xlabel('Birth Year', fontsize=12)\n",
    "plt.ylabel('Vaccination Coverage (%)', fontsize=12)\n",
    "plt.title('Hepatitis B Vaccination Coverage in Children\\n(≥3 Doses by 19 Months, United States)', \n",
    "          fontsize=14, fontweight='bold')\n",
    "plt.grid(True, alpha=0.3)\n",
    "plt.ylim(85, 95)\n",
    "\n",
    "# Add reference line at 90%\n",
    "plt.axhline(y=90, color='gray', linestyle='--', linewidth=1, alpha=0.7, label='90% Coverage')\n",
    "plt.legend()\n",
    "\n",
    "plt.tight_layout()\n",
    "plt.show()\n",
    "\n",
    "print(f\"\\nVaccination Statistics:\")\n",
    "print(f\"Lowest coverage: {hepb_3doses['Estimate (%)'].astype(float).min():.1f}% in {hepb_3doses.loc[hepb_3doses['Estimate (%)'].astype(float).idxmin(), 'Birth Year/Birth Cohort']}\")\n",
    "print(f\"Highest coverage: {hepb_3doses['Estimate (%)'].astype(float).max():.1f}% in {hepb_3doses.loc[hepb_3doses['Estimate (%)'].astype(float).idxmax(), 'Birth Year/Birth Cohort']}\")\n",
    "print(f\"Most recent coverage ({hepb_3doses['Birth Year/Birth Cohort'].iloc[-1]}): {hepb_3doses['Estimate (%)'].iloc[-1]}%\")"
   ]
  },
  {
   "cell_type": "markdown",
   "metadata": {},
   "source": [
    "## Visualization 3: Comparison of Vaccination Coverage and Infection Rates"
   ]
  },
  {
   "cell_type": "code",
   "execution_count": null,
   "metadata": {},
   "outputs": [],
   "source": [
    "# Create a combined visualization\n",
    "fig, ax1 = plt.subplots(figsize=(16, 7))\n",
    "\n",
    "# Plot infection cases on left axis\n",
    "color1 = '#d62728'\n",
    "ax1.set_xlabel('Year', fontsize=13)\n",
    "ax1.set_ylabel('Acute Hepatitis B Cases in Children (Age 0-14)', fontsize=13, color=color1)\n",
    "line1 = ax1.plot(children_infections['Year_Clean'], children_infections['Cases'].astype(int), \n",
    "         marker='o', linewidth=2.5, markersize=8, color=color1, label='Infection Cases')\n",
    "ax1.tick_params(axis='y', labelcolor=color1)\n",
    "ax1.grid(True, alpha=0.3)\n",
    "\n",
    "# Create second y-axis for vaccination coverage\n",
    "ax2 = ax1.twinx()\n",
    "color2 = '#2ca02c'\n",
    "ax2.set_ylabel('Hepatitis B Vaccination Coverage (%, ≥3 Doses by 19 Months)', fontsize=13, color=color2)\n",
    "line2 = ax2.plot(hepb_3doses['Year'], hepb_3doses['Estimate (%)'].astype(float), \n",
    "         marker='s', linewidth=2.5, markersize=8, color=color2, label='Vaccination Coverage')\n",
    "ax2.tick_params(axis='y', labelcolor=color2)\n",
    "ax2.set_ylim(85, 95)\n",
    "\n",
    "# Add title\n",
    "plt.title('HBV Vaccination Coverage vs. Infection Cases in Children Over Time', \n",
    "          fontsize=15, fontweight='bold', pad=20)\n",
    "\n",
    "# Combine legends\n",
    "lines = line1 + line2\n",
    "labels = [l.get_label() for l in lines]\n",
    "ax1.legend(lines, labels, loc='upper right', fontsize=11)\n",
    "\n",
    "plt.tight_layout()\n",
    "plt.show()"
   ]
  },
  {
   "cell_type": "markdown",
   "metadata": {},
   "source": [
    "## Additional Analysis: Vaccination Coverage by Different Metrics"
   ]
  },
  {
   "cell_type": "code",
   "execution_count": null,
   "metadata": {},
   "outputs": [],
   "source": [
    "# Look at different vaccination milestones\n",
    "hepb_all_doses = vaccine_children[\n",
    "    (vaccine_children['Vaccine'] == 'Hep B') & \n",
    "    (vaccine_children['Geography'] == 'United States') &\n",
    "    (vaccine_children['Birth Year/Birth Cohort'].isin(['2020', '2019-2020', '2020-2021']))\n",
    "].copy()\n",
    "\n",
    "# Get different milestones\n",
    "milestones = ['3 Months', '7 Months', '13 Months', '19 Months', '24 Months', '35 Months']\n",
    "milestone_data = []\n",
    "\n",
    "for milestone in milestones:\n",
    "    data = hepb_all_doses[\n",
    "        (hepb_all_doses['Dimension'] == milestone) & \n",
    "        (hepb_all_doses['Dose'] == '≥3 Doses')\n",
    "    ]\n",
    "    if len(data) > 0:\n",
    "        milestone_data.append({\n",
    "            'Age': milestone,\n",
    "            'Coverage': data['Estimate (%)'].astype(float).mean()\n",
    "        })\n",
    "\n",
    "milestone_df = pd.DataFrame(milestone_data)\n",
    "\n",
    "if len(milestone_df) > 0:\n",
    "    plt.figure(figsize=(12, 6))\n",
    "    bars = plt.bar(milestone_df['Age'], milestone_df['Coverage'], color='#2ca02c', alpha=0.7, edgecolor='black')\n",
    "    \n",
    "    # Add value labels on bars\n",
    "    for bar in bars:\n",
    "        height = bar.get_height()\n",
    "        plt.text(bar.get_x() + bar.get_width()/2., height,\n",
    "                f'{height:.1f}%',\n",
    "                ha='center', va='bottom', fontsize=11, fontweight='bold')\n",
    "    \n",
    "    plt.xlabel('Age at Vaccination', fontsize=12)\n",
    "    plt.ylabel('Vaccination Coverage (%)', fontsize=12)\n",
    "    plt.title('Hepatitis B Vaccination Coverage (≥3 Doses) by Age\\n(Recent Birth Cohorts)', \n",
    "              fontsize=14, fontweight='bold')\n",
    "    plt.ylim(0, 100)\n",
    "    plt.grid(True, alpha=0.3, axis='y')\n",
    "    plt.tight_layout()\n",
    "    plt.show()\n",
    "else:\n",
    "    print(\"No milestone data available for visualization\")"
   ]
  },
  {
   "cell_type": "markdown",
   "metadata": {},
   "source": [
    "## Summary Statistics"
   ]
  },
  {
   "cell_type": "code",
   "execution_count": null,
   "metadata": {},
   "outputs": [],
   "source": [
    "print(\"=\"*70)\n",
    "print(\"SUMMARY OF HBV VACCINATION AND INFECTION IN CHILDREN\")\n",
    "print(\"=\"*70)\n",
    "\n",
    "print(\"\\n📊 INFECTION TRENDS:\")\n",
    "print(\"-\" * 70)\n",
    "peak_year = children_infections.loc[children_infections['Cases'].astype(int).idxmax(), 'Year']\n",
    "peak_cases = children_infections['Cases'].astype(int).max()\n",
    "recent_cases = children_infections[children_infections['Year_Clean'] == 2023]['Cases'].astype(int).values[0]\n",
    "reduction = 100 * (1 - recent_cases / peak_cases)\n",
    "\n",
    "print(f\"  • Peak infection year: {peak_year} with {peak_cases} cases\")\n",
    "print(f\"  • Most recent (2023): {recent_cases} case(s)\")\n",
    "print(f\"  • Reduction from peak: {reduction:.1f}%\")\n",
    "print(f\"  • Average annual cases (2000-2023): {children_infections['Cases'].astype(int).mean():.1f}\")\n",
    "\n",
    "print(\"\\n💉 VACCINATION COVERAGE:\")\n",
    "print(\"-\" * 70)\n",
    "recent_coverage = hepb_3doses['Estimate (%)'].iloc[-1]\n",
    "avg_coverage = hepb_3doses['Estimate (%)'].astype(float).mean()\n",
    "\n",
    "print(f\"  • Most recent coverage ({hepb_3doses['Birth Year/Birth Cohort'].iloc[-1]}): {recent_coverage}%\")\n",
    "print(f\"  • Average coverage (all years): {avg_coverage:.1f}%\")\n",
    "print(f\"  • Highest coverage: {hepb_3doses['Estimate (%)'].astype(float).max():.1f}%\")\n",
    "print(f\"  • Lowest coverage: {hepb_3doses['Estimate (%)'].astype(float).min():.1f}%\")\n",
    "\n",
    "print(\"\\n🎯 KEY INSIGHTS:\")\n",
    "print(\"-\" * 70)\n",
    "print(\"  • HBV vaccination coverage has remained consistently high (>88%)\")\n",
    "print(\"  • Infection cases in children have dramatically decreased over time\")\n",
    "print(\"  • High vaccination coverage correlates with very low infection rates\")\n",
    "print(\"  • Recent years show near-elimination of HBV in children (0-14 age group)\")\n",
    "print(\"=\"*70)"
   ]
  }
 ],
 "metadata": {
  "kernelspec": {
   "display_name": "Python 3",
   "language": "python",
   "name": "python3"
  },
  "language_info": {
   "codemirror_mode": {
    "name": "ipython",
    "version": 3
   },
   "file_extension": ".py",
   "mimetype": "text/x-python",
   "name": "python",
   "nbconvert_exporter": "python",
   "pygments_lexer": "ipython3",
   "version": "3.8.0"
  }
 },
 "nbformat": 4,
 "nbformat_minor": 4
}
